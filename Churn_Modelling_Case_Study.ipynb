{
  "nbformat": 4,
  "nbformat_minor": 0,
  "metadata": {
    "colab": {
      "name": "Churn Modelling_Case Study.ipynb",
      "provenance": []
    },
    "kernelspec": {
      "name": "python3",
      "display_name": "Python 3"
    },
    "accelerator": "TPU"
  },
  "cells": [
    {
      "cell_type": "code",
      "metadata": {
        "id": "gM6BTRDZPI6c",
        "colab": {
          "base_uri": "https://localhost:8080/",
          "height": 385
        },
        "outputId": "294b4f13-e48d-4694-fb58-fcf1624e7ef5"
      },
      "source": [
        "import pandas as pd\n",
        "import numpy as np\n",
        "Data = pd.read_csv('ChurnData.csv')\n",
        "print('Shape before deleting duplicate values:', Data.shape)\n",
        "\n",
        "# Removing duplicate rows if any\n",
        "Data=Data.drop_duplicates()\n",
        "print('Shape After deleting duplicate values:', Data.shape)\n",
        "\n",
        "Data.head(10)"
      ],
      "execution_count": null,
      "outputs": [
        {
          "output_type": "stream",
          "text": [
            "Shape before deleting duplicate values: (150000, 8)\n",
            "Shape After deleting duplicate values: (147498, 8)\n"
          ],
          "name": "stdout"
        },
        {
          "output_type": "execute_result",
          "data": {
            "text/html": [
              "<div>\n",
              "<style scoped>\n",
              "    .dataframe tbody tr th:only-of-type {\n",
              "        vertical-align: middle;\n",
              "    }\n",
              "\n",
              "    .dataframe tbody tr th {\n",
              "        vertical-align: top;\n",
              "    }\n",
              "\n",
              "    .dataframe thead th {\n",
              "        text-align: right;\n",
              "    }\n",
              "</style>\n",
              "<table border=\"1\" class=\"dataframe\">\n",
              "  <thead>\n",
              "    <tr style=\"text-align: right;\">\n",
              "      <th></th>\n",
              "      <th>Churn</th>\n",
              "      <th>utilization</th>\n",
              "      <th>Age</th>\n",
              "      <th>Num_loans</th>\n",
              "      <th>Num_dependents</th>\n",
              "      <th>MonthlyIncome</th>\n",
              "      <th>Num_Savings_Acccts</th>\n",
              "      <th>DebtRatio</th>\n",
              "    </tr>\n",
              "  </thead>\n",
              "  <tbody>\n",
              "    <tr>\n",
              "      <th>0</th>\n",
              "      <td>1</td>\n",
              "      <td>0.766127</td>\n",
              "      <td>45</td>\n",
              "      <td>6</td>\n",
              "      <td>2</td>\n",
              "      <td>9120</td>\n",
              "      <td>2</td>\n",
              "      <td>0.852982</td>\n",
              "    </tr>\n",
              "    <tr>\n",
              "      <th>1</th>\n",
              "      <td>0</td>\n",
              "      <td>0.957151</td>\n",
              "      <td>40</td>\n",
              "      <td>0</td>\n",
              "      <td>1</td>\n",
              "      <td>4600</td>\n",
              "      <td>2</td>\n",
              "      <td>0.121876</td>\n",
              "    </tr>\n",
              "    <tr>\n",
              "      <th>2</th>\n",
              "      <td>0</td>\n",
              "      <td>0.658180</td>\n",
              "      <td>38</td>\n",
              "      <td>0</td>\n",
              "      <td>0</td>\n",
              "      <td>5042</td>\n",
              "      <td>2</td>\n",
              "      <td>0.085113</td>\n",
              "    </tr>\n",
              "    <tr>\n",
              "      <th>3</th>\n",
              "      <td>0</td>\n",
              "      <td>0.233810</td>\n",
              "      <td>30</td>\n",
              "      <td>0</td>\n",
              "      <td>0</td>\n",
              "      <td>5300</td>\n",
              "      <td>2</td>\n",
              "      <td>0.036050</td>\n",
              "    </tr>\n",
              "    <tr>\n",
              "      <th>4</th>\n",
              "      <td>0</td>\n",
              "      <td>0.907239</td>\n",
              "      <td>49</td>\n",
              "      <td>1</td>\n",
              "      <td>0</td>\n",
              "      <td>6357</td>\n",
              "      <td>2</td>\n",
              "      <td>0.024926</td>\n",
              "    </tr>\n",
              "    <tr>\n",
              "      <th>5</th>\n",
              "      <td>0</td>\n",
              "      <td>0.213179</td>\n",
              "      <td>74</td>\n",
              "      <td>1</td>\n",
              "      <td>1</td>\n",
              "      <td>5500</td>\n",
              "      <td>2</td>\n",
              "      <td>0.375607</td>\n",
              "    </tr>\n",
              "    <tr>\n",
              "      <th>6</th>\n",
              "      <td>0</td>\n",
              "      <td>0.305682</td>\n",
              "      <td>57</td>\n",
              "      <td>3</td>\n",
              "      <td>0</td>\n",
              "      <td>6357</td>\n",
              "      <td>2</td>\n",
              "      <td>0.274502</td>\n",
              "    </tr>\n",
              "    <tr>\n",
              "      <th>7</th>\n",
              "      <td>0</td>\n",
              "      <td>0.754464</td>\n",
              "      <td>39</td>\n",
              "      <td>0</td>\n",
              "      <td>0</td>\n",
              "      <td>5500</td>\n",
              "      <td>2</td>\n",
              "      <td>0.209940</td>\n",
              "    </tr>\n",
              "    <tr>\n",
              "      <th>8</th>\n",
              "      <td>0</td>\n",
              "      <td>0.116951</td>\n",
              "      <td>27</td>\n",
              "      <td>0</td>\n",
              "      <td>0</td>\n",
              "      <td>6357</td>\n",
              "      <td>2</td>\n",
              "      <td>0.274502</td>\n",
              "    </tr>\n",
              "    <tr>\n",
              "      <th>9</th>\n",
              "      <td>0</td>\n",
              "      <td>0.189169</td>\n",
              "      <td>57</td>\n",
              "      <td>4</td>\n",
              "      <td>2</td>\n",
              "      <td>6357</td>\n",
              "      <td>2</td>\n",
              "      <td>0.606291</td>\n",
              "    </tr>\n",
              "  </tbody>\n",
              "</table>\n",
              "</div>"
            ],
            "text/plain": [
              "   Churn  utilization  Age  ...  MonthlyIncome  Num_Savings_Acccts  DebtRatio\n",
              "0      1     0.766127   45  ...           9120                   2   0.852982\n",
              "1      0     0.957151   40  ...           4600                   2   0.121876\n",
              "2      0     0.658180   38  ...           5042                   2   0.085113\n",
              "3      0     0.233810   30  ...           5300                   2   0.036050\n",
              "4      0     0.907239   49  ...           6357                   2   0.024926\n",
              "5      0     0.213179   74  ...           5500                   2   0.375607\n",
              "6      0     0.305682   57  ...           6357                   2   0.274502\n",
              "7      0     0.754464   39  ...           5500                   2   0.209940\n",
              "8      0     0.116951   27  ...           6357                   2   0.274502\n",
              "9      0     0.189169   57  ...           6357                   2   0.606291\n",
              "\n",
              "[10 rows x 8 columns]"
            ]
          },
          "metadata": {
            "tags": []
          },
          "execution_count": 2
        }
      ]
    },
    {
      "cell_type": "code",
      "metadata": {
        "id": "1bUU82MaUOT8",
        "colab": {
          "base_uri": "https://localhost:8080/",
          "height": 454
        },
        "outputId": "1ec59254-275c-4e4c-8ad2-54e3d2626333"
      },
      "source": [
        "Data.info()\n",
        "Data.nunique()"
      ],
      "execution_count": null,
      "outputs": [
        {
          "output_type": "stream",
          "text": [
            "<class 'pandas.core.frame.DataFrame'>\n",
            "Int64Index: 147498 entries, 0 to 149998\n",
            "Data columns (total 8 columns):\n",
            " #   Column              Non-Null Count   Dtype  \n",
            "---  ------              --------------   -----  \n",
            " 0   Churn               147498 non-null  int64  \n",
            " 1   utilization         147498 non-null  float64\n",
            " 2   Age                 147498 non-null  int64  \n",
            " 3   Num_loans           147498 non-null  int64  \n",
            " 4   Num_dependents      147498 non-null  int64  \n",
            " 5   MonthlyIncome       147498 non-null  int64  \n",
            " 6   Num_Savings_Acccts  147498 non-null  int64  \n",
            " 7   DebtRatio           147498 non-null  float64\n",
            "dtypes: float64(2), int64(6)\n",
            "memory usage: 10.1 MB\n"
          ],
          "name": "stdout"
        },
        {
          "output_type": "execute_result",
          "data": {
            "text/plain": [
              "Churn                      2\n",
              "utilization           122596\n",
              "Age                       85\n",
              "Num_loans                 15\n",
              "Num_dependents            11\n",
              "MonthlyIncome          13417\n",
              "Num_Savings_Acccts         9\n",
              "DebtRatio             103729\n",
              "dtype: int64"
            ]
          },
          "metadata": {
            "tags": []
          },
          "execution_count": 3
        }
      ]
    },
    {
      "cell_type": "code",
      "metadata": {
        "id": "5YOxg3WZUWVu",
        "colab": {
          "base_uri": "https://localhost:8080/",
          "height": 288
        },
        "outputId": "2f941e50-7847-4cef-ecfc-c790a385aba9"
      },
      "source": [
        "Data.describe()"
      ],
      "execution_count": null,
      "outputs": [
        {
          "output_type": "execute_result",
          "data": {
            "text/html": [
              "<div>\n",
              "<style scoped>\n",
              "    .dataframe tbody tr th:only-of-type {\n",
              "        vertical-align: middle;\n",
              "    }\n",
              "\n",
              "    .dataframe tbody tr th {\n",
              "        vertical-align: top;\n",
              "    }\n",
              "\n",
              "    .dataframe thead th {\n",
              "        text-align: right;\n",
              "    }\n",
              "</style>\n",
              "<table border=\"1\" class=\"dataframe\">\n",
              "  <thead>\n",
              "    <tr style=\"text-align: right;\">\n",
              "      <th></th>\n",
              "      <th>Churn</th>\n",
              "      <th>utilization</th>\n",
              "      <th>Age</th>\n",
              "      <th>Num_loans</th>\n",
              "      <th>Num_dependents</th>\n",
              "      <th>MonthlyIncome</th>\n",
              "      <th>Num_Savings_Acccts</th>\n",
              "      <th>DebtRatio</th>\n",
              "    </tr>\n",
              "  </thead>\n",
              "  <tbody>\n",
              "    <tr>\n",
              "      <th>count</th>\n",
              "      <td>147498.000000</td>\n",
              "      <td>147498.000000</td>\n",
              "      <td>147498.000000</td>\n",
              "      <td>147498.000000</td>\n",
              "      <td>147498.000000</td>\n",
              "      <td>147498.000000</td>\n",
              "      <td>147498.000000</td>\n",
              "      <td>147498.000000</td>\n",
              "    </tr>\n",
              "    <tr>\n",
              "      <th>mean</th>\n",
              "      <td>0.067194</td>\n",
              "      <td>0.301473</td>\n",
              "      <td>52.300085</td>\n",
              "      <td>1.026963</td>\n",
              "      <td>0.749508</td>\n",
              "      <td>7687.834466</td>\n",
              "      <td>5.258315</td>\n",
              "      <td>0.301310</td>\n",
              "    </tr>\n",
              "    <tr>\n",
              "      <th>std</th>\n",
              "      <td>0.250359</td>\n",
              "      <td>0.330363</td>\n",
              "      <td>14.710888</td>\n",
              "      <td>1.108859</td>\n",
              "      <td>1.111023</td>\n",
              "      <td>3539.105870</td>\n",
              "      <td>2.167324</td>\n",
              "      <td>0.200009</td>\n",
              "    </tr>\n",
              "    <tr>\n",
              "      <th>min</th>\n",
              "      <td>0.000000</td>\n",
              "      <td>0.000000</td>\n",
              "      <td>21.000000</td>\n",
              "      <td>0.000000</td>\n",
              "      <td>0.000000</td>\n",
              "      <td>1.000000</td>\n",
              "      <td>1.000000</td>\n",
              "      <td>0.000000</td>\n",
              "    </tr>\n",
              "    <tr>\n",
              "      <th>25%</th>\n",
              "      <td>0.000000</td>\n",
              "      <td>0.031072</td>\n",
              "      <td>41.000000</td>\n",
              "      <td>0.000000</td>\n",
              "      <td>0.000000</td>\n",
              "      <td>5700.000000</td>\n",
              "      <td>3.000000</td>\n",
              "      <td>0.178393</td>\n",
              "    </tr>\n",
              "    <tr>\n",
              "      <th>50%</th>\n",
              "      <td>0.000000</td>\n",
              "      <td>0.154835</td>\n",
              "      <td>52.000000</td>\n",
              "      <td>1.000000</td>\n",
              "      <td>0.000000</td>\n",
              "      <td>6357.000000</td>\n",
              "      <td>5.000000</td>\n",
              "      <td>0.274502</td>\n",
              "    </tr>\n",
              "    <tr>\n",
              "      <th>75%</th>\n",
              "      <td>0.000000</td>\n",
              "      <td>0.500162</td>\n",
              "      <td>63.000000</td>\n",
              "      <td>2.000000</td>\n",
              "      <td>1.000000</td>\n",
              "      <td>9166.000000</td>\n",
              "      <td>7.000000</td>\n",
              "      <td>0.386703</td>\n",
              "    </tr>\n",
              "    <tr>\n",
              "      <th>max</th>\n",
              "      <td>1.000000</td>\n",
              "      <td>1.000000</td>\n",
              "      <td>109.000000</td>\n",
              "      <td>14.000000</td>\n",
              "      <td>10.000000</td>\n",
              "      <td>25000.000000</td>\n",
              "      <td>9.000000</td>\n",
              "      <td>1.050000</td>\n",
              "    </tr>\n",
              "  </tbody>\n",
              "</table>\n",
              "</div>"
            ],
            "text/plain": [
              "               Churn    utilization  ...  Num_Savings_Acccts      DebtRatio\n",
              "count  147498.000000  147498.000000  ...       147498.000000  147498.000000\n",
              "mean        0.067194       0.301473  ...            5.258315       0.301310\n",
              "std         0.250359       0.330363  ...            2.167324       0.200009\n",
              "min         0.000000       0.000000  ...            1.000000       0.000000\n",
              "25%         0.000000       0.031072  ...            3.000000       0.178393\n",
              "50%         0.000000       0.154835  ...            5.000000       0.274502\n",
              "75%         0.000000       0.500162  ...            7.000000       0.386703\n",
              "max         1.000000       1.000000  ...            9.000000       1.050000\n",
              "\n",
              "[8 rows x 8 columns]"
            ]
          },
          "metadata": {
            "tags": []
          },
          "execution_count": 4
        }
      ]
    },
    {
      "cell_type": "code",
      "metadata": {
        "id": "yoOOZphrUfE_",
        "colab": {
          "base_uri": "https://localhost:8080/",
          "height": 348
        },
        "outputId": "f9f4a2cd-b7ac-4362-8a9d-6a7d52f9cbe9"
      },
      "source": [
        "%matplotlib inline\n",
        "# Creating Bar chart as the Target variable is Categorical\n",
        "GroupedData=Data.groupby('Churn').size()\n",
        "GroupedData.plot(kind='bar', figsize=(6,5))"
      ],
      "execution_count": null,
      "outputs": [
        {
          "output_type": "execute_result",
          "data": {
            "text/plain": [
              "<matplotlib.axes._subplots.AxesSubplot at 0x7fc33ee26320>"
            ]
          },
          "metadata": {
            "tags": []
          },
          "execution_count": 5
        },
        {
          "output_type": "display_data",
          "data": {
            "image/png": "[encoded data removed]",
            "text/plain": [
              "<Figure size 432x360 with 1 Axes>"
            ]
          },
          "metadata": {
            "tags": [],
            "needs_background": "light"
          }
        }
      ]
    },
    {
      "cell_type": "code",
      "metadata": {
        "id": "phbAjp5TV5DZ",
        "colab": {
          "base_uri": "https://localhost:8080/",
          "height": 72
        },
        "outputId": "fcc5ca62-fd09-4549-c7b4-2edf12240ee9"
      },
      "source": [
        "Data.columns"
      ],
      "execution_count": null,
      "outputs": [
        {
          "output_type": "execute_result",
          "data": {
            "text/plain": [
              "Index(['Churn', 'utilization', 'Age', 'Num_loans', 'Num_dependents',\n",
              "       'MonthlyIncome', 'Num_Savings_Acccts', 'DebtRatio'],\n",
              "      dtype='object')"
            ]
          },
          "metadata": {
            "tags": []
          },
          "execution_count": 6
        }
      ]
    },
    {
      "cell_type": "code",
      "metadata": {
        "id": "SBGEMT6kUvEs",
        "colab": {
          "base_uri": "https://localhost:8080/",
          "height": 373
        },
        "outputId": "67e91971-4314-4536-d638-096c77d35786"
      },
      "source": [
        "def PlotBarCharts(inpData, colsToPlot):\n",
        "    %matplotlib inline\n",
        "    \n",
        "    import matplotlib.pyplot as plt\n",
        "    \n",
        "    # Generating multiple subplots\n",
        "    fig, subPlot=plt.subplots(nrows=1, ncols=len(colsToPlot), figsize=(18,5))\n",
        "    fig.suptitle('Bar charts of: '+ str(colsToPlot))\n",
        "\n",
        "    for colName, plotNumber in zip(colsToPlot, range(len(colsToPlot))):\n",
        "        inpData.groupby(colName).size().plot(kind='bar',ax=subPlot[plotNumber])\n",
        "\n",
        "# Calling the function\n",
        "PlotBarCharts(inpData=Data, colsToPlot=['Num_loans', 'Num_dependents','Num_Savings_Acccts'])"
      ],
      "execution_count": null,
      "outputs": [
        {
          "output_type": "display_data",
          "data": {
            "image/png": "[encoded data removed]",
            "text/plain": [
              "<Figure size 1296x360 with 3 Axes>"
            ]
          },
          "metadata": {
            "tags": [],
            "needs_background": "light"
          }
        }
      ]
    },
    {
      "cell_type": "code",
      "metadata": {
        "id": "Y4LGUxXZWA-E",
        "colab": {
          "base_uri": "https://localhost:8080/",
          "height": 590
        },
        "outputId": "cdff4e52-22ac-4b41-ffea-acf516355b16"
      },
      "source": [
        "Data.hist(['utilization','Age','MonthlyIncome','DebtRatio'], figsize=(18,8))"
      ],
      "execution_count": null,
      "outputs": [
        {
          "output_type": "execute_result",
          "data": {
            "text/plain": [
              "array([[<matplotlib.axes._subplots.AxesSubplot object at 0x7fc33ed625c0>,\n",
              "        <matplotlib.axes._subplots.AxesSubplot object at 0x7fc33e6f5e48>],\n",
              "       [<matplotlib.axes._subplots.AxesSubplot object at 0x7fc33e6b40b8>,\n",
              "        <matplotlib.axes._subplots.AxesSubplot object at 0x7fc33e666320>]],\n",
              "      dtype=object)"
            ]
          },
          "metadata": {
            "tags": []
          },
          "execution_count": 8
        },
        {
          "output_type": "display_data",
          "data": {
            "image/png": "[encoded data removed]",
            "text/plain": [
              "<Figure size 1296x576 with 4 Axes>"
            ]
          },
          "metadata": {
            "tags": [],
            "needs_background": "light"
          }
        }
      ]
    },
    {
      "cell_type": "code",
      "metadata": {
        "id": "nhJJdryuW912",
        "colab": {
          "base_uri": "https://localhost:8080/",
          "height": 1000
        },
        "outputId": "a561e210-87ea-446c-9dd4-b6fe1799c550"
      },
      "source": [
        "Data.boxplot(column='utilization', by='Churn', figsize=(10,4), vert=True)\n",
        "Data.boxplot(column='Age', by='Churn', figsize=(10,4), vert=True)\n",
        "Data.boxplot(column='MonthlyIncome', by='Churn', figsize=(10,4), vert=True)\n",
        "Data.boxplot(column='DebtRatio', by='Churn', figsize=(10,4), vert=True)"
      ],
      "execution_count": null,
      "outputs": [
        {
          "output_type": "execute_result",
          "data": {
            "text/plain": [
              "<matplotlib.axes._subplots.AxesSubplot at 0x7fc33e5bd908>"
            ]
          },
          "metadata": {
            "tags": []
          },
          "execution_count": 9
        },
        {
          "output_type": "display_data",
          "data": {
            "image/png": "[encoded data removed]",
            "text/plain": [
              "<Figure size 720x288 with 1 Axes>"
            ]
          },
          "metadata": {
            "tags": [],
            "needs_background": "light"
          }
        },
        {
          "output_type": "display_data",
          "data": {
            "image/png": "[encoded data removed]",
            "text/plain": [
              "<Figure size 720x288 with 1 Axes>"
            ]
          },
          "metadata": {
            "tags": [],
            "needs_background": "light"
          }
        },
        {
          "output_type": "display_data",
          "data": {
            "image/png": "[encoded data removed]",
            "text/plain": [
              "<Figure size 720x288 with 1 Axes>"
            ]
          },
          "metadata": {
            "tags": [],
            "needs_background": "light"
          }
        },
        {
          "output_type": "display_data",
          "data": {
            "image/png": "[encoded data removed]",
            "text/plain": [
              "<Figure size 720x288 with 1 Axes>"
            ]
          },
          "metadata": {
            "tags": [],
            "needs_background": "light"
          }
        }
      ]
    },
    {
      "cell_type": "code",
      "metadata": {
        "id": "0oRH-LkaYrS7",
        "colab": {
          "base_uri": "https://localhost:8080/",
          "height": 138
        },
        "outputId": "5fb7d121-311e-460e-8153-3bd5ea6d211a"
      },
      "source": [
        "GroupedData=Data.groupby('Churn')\n",
        "GroupedData.mean()"
      ],
      "execution_count": null,
      "outputs": [
        {
          "output_type": "execute_result",
          "data": {
            "text/html": [
              "<div>\n",
              "<style scoped>\n",
              "    .dataframe tbody tr th:only-of-type {\n",
              "        vertical-align: middle;\n",
              "    }\n",
              "\n",
              "    .dataframe tbody tr th {\n",
              "        vertical-align: top;\n",
              "    }\n",
              "\n",
              "    .dataframe thead th {\n",
              "        text-align: right;\n",
              "    }\n",
              "</style>\n",
              "<table border=\"1\" class=\"dataframe\">\n",
              "  <thead>\n",
              "    <tr style=\"text-align: right;\">\n",
              "      <th></th>\n",
              "      <th>utilization</th>\n",
              "      <th>Age</th>\n",
              "      <th>Num_loans</th>\n",
              "      <th>Num_dependents</th>\n",
              "      <th>MonthlyIncome</th>\n",
              "      <th>Num_Savings_Acccts</th>\n",
              "      <th>DebtRatio</th>\n",
              "    </tr>\n",
              "    <tr>\n",
              "      <th>Churn</th>\n",
              "      <th></th>\n",
              "      <th></th>\n",
              "      <th></th>\n",
              "      <th></th>\n",
              "      <th></th>\n",
              "      <th></th>\n",
              "      <th></th>\n",
              "    </tr>\n",
              "  </thead>\n",
              "  <tbody>\n",
              "    <tr>\n",
              "      <th>0</th>\n",
              "      <td>0.280449</td>\n",
              "      <td>52.751408</td>\n",
              "      <td>1.029356</td>\n",
              "      <td>0.735644</td>\n",
              "      <td>7871.199176</td>\n",
              "      <td>5.256630</td>\n",
              "      <td>0.295495</td>\n",
              "    </tr>\n",
              "    <tr>\n",
              "      <th>1</th>\n",
              "      <td>0.593334</td>\n",
              "      <td>46.034709</td>\n",
              "      <td>0.993744</td>\n",
              "      <td>0.941984</td>\n",
              "      <td>5142.319342</td>\n",
              "      <td>5.281707</td>\n",
              "      <td>0.382030</td>\n",
              "    </tr>\n",
              "  </tbody>\n",
              "</table>\n",
              "</div>"
            ],
            "text/plain": [
              "       utilization        Age  ...  Num_Savings_Acccts  DebtRatio\n",
              "Churn                          ...                               \n",
              "0         0.280449  52.751408  ...            5.256630   0.295495\n",
              "1         0.593334  46.034709  ...            5.281707   0.382030\n",
              "\n",
              "[2 rows x 7 columns]"
            ]
          },
          "metadata": {
            "tags": []
          },
          "execution_count": 10
        }
      ]
    },
    {
      "cell_type": "code",
      "metadata": {
        "id": "Q6s26P3lXqv1",
        "colab": {
          "base_uri": "https://localhost:8080/",
          "height": 90
        },
        "outputId": "15f3a8fe-2bc5-47f1-951f-1c4c16710d2c"
      },
      "source": [
        "def AutoAnova(InpData, targetCol, InputCol):\n",
        "  from scipy.stats import f_oneway\n",
        "\n",
        "  for col in InputCol:\n",
        "    groupeddata = InpData.groupby(targetCol)[col].apply(list)\n",
        "    aov = f_oneway(*groupeddata)\n",
        "    if aov[1]<=0.05:\n",
        "      print(\"One-way ANOVA P-Value for\",col,\"=\",aov[1])\n",
        "\n",
        "#ANOVA test to understant the dependency of price over each independent variable \n",
        "AutoAnova(Data,'Churn',['utilization','Age','MonthlyIncome','DebtRatio'])"
      ],
      "execution_count": null,
      "outputs": [
        {
          "output_type": "stream",
          "text": [
            "One-way ANOVA P-Value for utilization = 0.0\n",
            "One-way ANOVA P-Value for Age = 0.0\n",
            "One-way ANOVA P-Value for MonthlyIncome = 0.0\n",
            "One-way ANOVA P-Value for DebtRatio = 0.0\n"
          ],
          "name": "stdout"
        }
      ]
    },
    {
      "cell_type": "code",
      "metadata": {
        "id": "zfbAcM6TYRrF",
        "colab": {
          "base_uri": "https://localhost:8080/",
          "height": 54
        },
        "outputId": "248527f2-14f1-42d4-98ce-c4a3cf6493f5"
      },
      "source": [
        "def AutoChi(InpData, targetCol, InputCol):\n",
        "  from scipy.stats import chi2_contingency as ch\n",
        "\n",
        "  for col in InputCol:\n",
        "    CrossTab = pd.crosstab(index = InpData[col], columns=InpData[targetCol])\n",
        "    ChSq = ch(CrossTab)\n",
        "    if ChSq[1]<=0.05:\n",
        "      print('Chi-Square test P-Value for',col,'=',ChSq[1])\n",
        "\n",
        "AutoChi(InpData=Data, targetCol='Churn',InputCol=['Num_loans', 'Num_dependents','Num_Savings_Acccts'])"
      ],
      "execution_count": null,
      "outputs": [
        {
          "output_type": "stream",
          "text": [
            "Chi-Square test P-Value for Num_loans = 1.7330151724541351e-140\n",
            "Chi-Square test P-Value for Num_dependents = 2.1319002699114503e-67\n"
          ],
          "name": "stdout"
        }
      ]
    },
    {
      "cell_type": "code",
      "metadata": {
        "id": "syFdm8CSaO-C",
        "colab": {
          "base_uri": "https://localhost:8080/",
          "height": 181
        },
        "outputId": "72393747-ea71-450e-c1ad-71e8ce66dfd0"
      },
      "source": [
        "Data.isnull().sum()"
      ],
      "execution_count": null,
      "outputs": [
        {
          "output_type": "execute_result",
          "data": {
            "text/plain": [
              "Churn                 0\n",
              "utilization           0\n",
              "Age                   0\n",
              "Num_loans             0\n",
              "Num_dependents        0\n",
              "MonthlyIncome         0\n",
              "Num_Savings_Acccts    0\n",
              "DebtRatio             0\n",
              "dtype: int64"
            ]
          },
          "metadata": {
            "tags": []
          },
          "execution_count": 13
        }
      ]
    },
    {
      "cell_type": "code",
      "metadata": {
        "id": "O8bHz0uCaaJt"
      },
      "source": [
        "# Saving the processed data as a pickle file\n",
        "Data.to_pickle('ChurnData.pkl')"
      ],
      "execution_count": null,
      "outputs": []
    },
    {
      "cell_type": "markdown",
      "metadata": {
        "id": "XFF9wWRXbeJw"
      },
      "source": [
        "Imbalance Treatment"
      ]
    },
    {
      "cell_type": "code",
      "metadata": {
        "id": "o7m1vnKZasfN",
        "colab": {
          "base_uri": "https://localhost:8080/",
          "height": 110
        },
        "outputId": "ce54e1f9-97cb-4a39-e807-bb44ff87667a"
      },
      "source": [
        "from imblearn.over_sampling import RandomOverSampler\n",
        "ros= RandomOverSampler(random_state=24, ratio=1)"
      ],
      "execution_count": null,
      "outputs": [
        {
          "output_type": "stream",
          "text": [
            "/usr/local/lib/python3.6/dist-packages/sklearn/externals/six.py:31: FutureWarning: The module is deprecated in version 0.21 and will be removed in version 0.23 since we've dropped support for Python 2.7. Please rely on the official version of six (https://pypi.org/project/six/).\n",
            "  \"(https://pypi.org/project/six/).\", FutureWarning)\n",
            "/usr/local/lib/python3.6/dist-packages/sklearn/utils/deprecation.py:144: FutureWarning: The sklearn.neighbors.base module is  deprecated in version 0.22 and will be removed in version 0.24. The corresponding classes / functions should instead be imported from sklearn.neighbors. Anything that cannot be imported from sklearn.neighbors is now part of the private API.\n",
            "  warnings.warn(message, FutureWarning)\n"
          ],
          "name": "stderr"
        }
      ]
    },
    {
      "cell_type": "code",
      "metadata": {
        "id": "xaEZ4N3fbtQF",
        "colab": {
          "base_uri": "https://localhost:8080/",
          "height": 146
        },
        "outputId": "b8e03365-1842-4af8-f1fc-b47578ae0d6a"
      },
      "source": [
        "# Separate Target Variable and Predictor Variables\n",
        "Target='Churn'\n",
        "Predictors=['utilization', 'Age', 'Num_loans', 'Num_dependents','MonthlyIncome', 'Num_Savings_Acccts', 'DebtRatio']\n",
        "\n",
        "\n",
        "X=Data[Predictors].values\n",
        "y=Data[Target].values\n",
        "\n",
        "# Treating Imbalance\n",
        "X,y = ros.fit_resample(X,y)\n",
        "\n",
        "### Sandardization of data ###\n",
        "### We does not standardize the Target variable for classification\n",
        "#from sklearn.preprocessing import StandardScaler\n",
        "#PredictorScaler=StandardScaler()\n",
        "\n",
        "# Storing the fit object for later reference\n",
        "#PredictorScalerFit=PredictorScaler.fit(X)\n",
        "\n",
        "# Generating the standardized values of X and y\n",
        "#X=PredictorScalerFit.transform(X)\n",
        "\n",
        "# Split the data into training and testing set\n",
        "from sklearn.model_selection import train_test_split\n",
        "X_train, X_test, y_train, y_test = train_test_split(X, y, test_size=0.40, random_state=24)\n",
        "\n",
        "# Quick sanity check with the shapes of Training and testing datasets\n",
        "print(X_train.shape)\n",
        "print(y_train.shape)\n",
        "print(X_test.shape)\n",
        "print(y_test.shape)"
      ],
      "execution_count": null,
      "outputs": [
        {
          "output_type": "stream",
          "text": [
            "(165104, 7)\n",
            "(165104,)\n",
            "(110070, 7)\n",
            "(110070,)\n"
          ],
          "name": "stdout"
        },
        {
          "output_type": "stream",
          "text": [
            "/usr/local/lib/python3.6/dist-packages/sklearn/utils/deprecation.py:87: FutureWarning: Function safe_indexing is deprecated; safe_indexing is deprecated in version 0.22 and will be removed in version 0.24.\n",
            "  warnings.warn(msg, category=FutureWarning)\n"
          ],
          "name": "stderr"
        }
      ]
    },
    {
      "cell_type": "code",
      "metadata": {
        "id": "YBN7KyaIchrF",
        "colab": {
          "base_uri": "https://localhost:8080/",
          "height": 453
        },
        "outputId": "c10d783e-eba0-46a6-c22b-4964e46bef63"
      },
      "source": [
        "from sklearn.linear_model import LogisticRegression\n",
        "#Choose model parameters\n",
        "model = LogisticRegression(C=2,penalty='l2',solver='newton-cg')  #class_weight='balanced',\n",
        "\n",
        "#Building model on training data\n",
        "LOG = model.fit(X_train,y_train)\n",
        "pred_prob = LOG.predict_proba(X_test)\n",
        "pred = []\n",
        "for k in pred_prob:\n",
        "  Probability = k[1]\n",
        "  if k[1]>=0.5:\n",
        "    pred.append(1)\n",
        "  elif k[1]<0.5:\n",
        "    pred.append(0)\n",
        "\n",
        "#Measuring accuracy on training data\n",
        "print(LOG.score(X_train,y_train))\n",
        "\n",
        "#Measuring accuracy on testing data\n",
        "print(LOG.score(X_test,y_test))\n",
        "\n",
        "from sklearn import metrics\n",
        "print(metrics.classification_report(y_test, pred))\n",
        "print(metrics.confusion_matrix(y_test, pred))\n",
        "\n",
        "# Printing the Overall Accuracy of the model\n",
        "F1_Score=metrics.classification_report(y_test, pred).split()[-2]\n",
        "print('Accuracy of the model:', F1_Score)\n",
        "\n",
        "# Scaling the test data back to original scale\n",
        "#Test_Data=PredictorScalerFit.inverse_transform(X_test)\n",
        "Test_Data = X_test\n",
        "# Printing some sample values of prediction\n",
        "TestingDataResults=pd.DataFrame(data=Test_Data, columns=Predictors)\n",
        "TestingDataResults[Target]=y_test\n",
        "TestingDataResults['Probability']=Probability\n",
        "TestingDataResults['Predicted'+ Target]=pred\n",
        "TestingDataResults.head()"
      ],
      "execution_count": null,
      "outputs": [
        {
          "output_type": "stream",
          "text": [
            "0.7586248667506541\n",
            "0.7596529481239211\n",
            "              precision    recall  f1-score   support\n",
            "\n",
            "           0       0.76      0.75      0.76     55005\n",
            "           1       0.76      0.77      0.76     55065\n",
            "\n",
            "    accuracy                           0.76    110070\n",
            "   macro avg       0.76      0.76      0.76    110070\n",
            "weighted avg       0.76      0.76      0.76    110070\n",
            "\n",
            "[[41400 13605]\n",
            " [12850 42215]]\n",
            "Accuracy of the model: 0.76\n"
          ],
          "name": "stdout"
        },
        {
          "output_type": "execute_result",
          "data": {
            "text/html": [
              "<div>\n",
              "<style scoped>\n",
              "    .dataframe tbody tr th:only-of-type {\n",
              "        vertical-align: middle;\n",
              "    }\n",
              "\n",
              "    .dataframe tbody tr th {\n",
              "        vertical-align: top;\n",
              "    }\n",
              "\n",
              "    .dataframe thead th {\n",
              "        text-align: right;\n",
              "    }\n",
              "</style>\n",
              "<table border=\"1\" class=\"dataframe\">\n",
              "  <thead>\n",
              "    <tr style=\"text-align: right;\">\n",
              "      <th></th>\n",
              "      <th>utilization</th>\n",
              "      <th>Age</th>\n",
              "      <th>Num_loans</th>\n",
              "      <th>Num_dependents</th>\n",
              "      <th>MonthlyIncome</th>\n",
              "      <th>Num_Savings_Acccts</th>\n",
              "      <th>DebtRatio</th>\n",
              "      <th>Churn</th>\n",
              "      <th>Probability</th>\n",
              "      <th>PredictedChurn</th>\n",
              "    </tr>\n",
              "  </thead>\n",
              "  <tbody>\n",
              "    <tr>\n",
              "      <th>0</th>\n",
              "      <td>0.016310</td>\n",
              "      <td>55.0</td>\n",
              "      <td>2.0</td>\n",
              "      <td>0.0</td>\n",
              "      <td>6357.0</td>\n",
              "      <td>2.0</td>\n",
              "      <td>0.274502</td>\n",
              "      <td>0</td>\n",
              "      <td>0.516754</td>\n",
              "      <td>0</td>\n",
              "    </tr>\n",
              "    <tr>\n",
              "      <th>1</th>\n",
              "      <td>1.000000</td>\n",
              "      <td>41.0</td>\n",
              "      <td>0.0</td>\n",
              "      <td>2.0</td>\n",
              "      <td>3682.0</td>\n",
              "      <td>3.0</td>\n",
              "      <td>0.366318</td>\n",
              "      <td>1</td>\n",
              "      <td>0.516754</td>\n",
              "      <td>1</td>\n",
              "    </tr>\n",
              "    <tr>\n",
              "      <th>2</th>\n",
              "      <td>1.000000</td>\n",
              "      <td>42.0</td>\n",
              "      <td>0.0</td>\n",
              "      <td>2.0</td>\n",
              "      <td>8448.0</td>\n",
              "      <td>2.0</td>\n",
              "      <td>0.182915</td>\n",
              "      <td>1</td>\n",
              "      <td>0.516754</td>\n",
              "      <td>1</td>\n",
              "    </tr>\n",
              "    <tr>\n",
              "      <th>3</th>\n",
              "      <td>0.339612</td>\n",
              "      <td>65.0</td>\n",
              "      <td>1.0</td>\n",
              "      <td>0.0</td>\n",
              "      <td>2996.0</td>\n",
              "      <td>8.0</td>\n",
              "      <td>0.640257</td>\n",
              "      <td>1</td>\n",
              "      <td>0.516754</td>\n",
              "      <td>1</td>\n",
              "    </tr>\n",
              "    <tr>\n",
              "      <th>4</th>\n",
              "      <td>0.267830</td>\n",
              "      <td>51.0</td>\n",
              "      <td>2.0</td>\n",
              "      <td>0.0</td>\n",
              "      <td>5800.0</td>\n",
              "      <td>2.0</td>\n",
              "      <td>0.536964</td>\n",
              "      <td>0</td>\n",
              "      <td>0.516754</td>\n",
              "      <td>1</td>\n",
              "    </tr>\n",
              "  </tbody>\n",
              "</table>\n",
              "</div>"
            ],
            "text/plain": [
              "   utilization   Age  Num_loans  ...  Churn  Probability  PredictedChurn\n",
              "0     0.016310  55.0        2.0  ...      0     0.516754               0\n",
              "1     1.000000  41.0        0.0  ...      1     0.516754               1\n",
              "2     1.000000  42.0        0.0  ...      1     0.516754               1\n",
              "3     0.339612  65.0        1.0  ...      1     0.516754               1\n",
              "4     0.267830  51.0        2.0  ...      0     0.516754               1\n",
              "\n",
              "[5 rows x 10 columns]"
            ]
          },
          "metadata": {
            "tags": []
          },
          "execution_count": 17
        }
      ]
    },
    {
      "cell_type": "code",
      "metadata": {
        "id": "cwlUn_52u-gg"
      },
      "source": [
        ""
      ],
      "execution_count": null,
      "outputs": []
    },
    {
      "cell_type": "code",
      "metadata": {
        "id": "twFqQX8ZsiGt"
      },
      "source": [
        "pred_prob = LOG.predict_proba(X_test)\n",
        "pred = []\n",
        "for k in pred_prob:\n",
        "  if k[0]>=0.7:\n",
        "    prob = k\n",
        "    pred.append(1)\n",
        "  else:\n",
        "    pred.append(0)  \n",
        "pred"
      ],
      "execution_count": null,
      "outputs": []
    },
    {
      "cell_type": "code",
      "metadata": {
        "id": "CHzTgLRdc5az",
        "colab": {
          "base_uri": "https://localhost:8080/",
          "height": 664
        },
        "outputId": "15180161-0028-472b-b180-43f70c66b4ef"
      },
      "source": [
        "from sklearn import tree\n",
        "#Choose model parameters\n",
        "model = tree.DecisionTreeClassifier(max_depth=2, criterion='entropy')\n",
        "\n",
        "#Building model on training data\n",
        "dtree = model.fit(X_train,y_train)\n",
        "pred = dtree.predict_proba(X_test)\n",
        "pred = []\n",
        "for k in pred_prob:\n",
        "  Probability = k[1]\n",
        "  if k[1]>=0.5:\n",
        "    pred.append(1)\n",
        "  elif k[1]<0.5:\n",
        "    pred.append(0)\n",
        "\n",
        "\n",
        "from sklearn import metrics\n",
        "print(metrics.classification_report(y_test, pred))\n",
        "print(metrics.confusion_matrix(y_test, pred))\n",
        "\n",
        "# Printing the Overall Accuracy of the model\n",
        "F1_Score=metrics.classification_report(y_test, pred).split()[-2]\n",
        "print('Accuracy of the model:', F1_Score)\n",
        "\n",
        "# Plotting the feature importance for Top 10 most important columns\n",
        "%matplotlib inline\n",
        "feature_importances = pd.Series(dtree.feature_importances_, index=Predictors)\n",
        "feature_importances.nlargest(10).plot(kind='barh')\n",
        "\n",
        "# Scaling the test data back to original scale\n",
        "#Test_Data=PredictorScalerFit.inverse_transform(X_test)\n",
        "Test_Data=X_test\n",
        "\n",
        "# Printing some sample values of prediction\n",
        "TestingDataResults=pd.DataFrame(data=Test_Data, columns=Predictors)\n",
        "TestingDataResults[Target]=y_test\n",
        "TestingDataResults['Predicted'+ Target]=pred\n",
        "TestingDataResults.head()\n"
      ],
      "execution_count": null,
      "outputs": [
        {
          "output_type": "stream",
          "text": [
            "              precision    recall  f1-score   support\n",
            "\n",
            "           0       0.76      0.75      0.76     55005\n",
            "           1       0.76      0.77      0.76     55065\n",
            "\n",
            "    accuracy                           0.76    110070\n",
            "   macro avg       0.76      0.76      0.76    110070\n",
            "weighted avg       0.76      0.76      0.76    110070\n",
            "\n",
            "[[41400 13605]\n",
            " [12850 42215]]\n",
            "Accuracy of the model: 0.76\n"
          ],
          "name": "stdout"
        },
        {
          "output_type": "execute_result",
          "data": {
            "text/html": [
              "<div>\n",
              "<style scoped>\n",
              "    .dataframe tbody tr th:only-of-type {\n",
              "        vertical-align: middle;\n",
              "    }\n",
              "\n",
              "    .dataframe tbody tr th {\n",
              "        vertical-align: top;\n",
              "    }\n",
              "\n",
              "    .dataframe thead th {\n",
              "        text-align: right;\n",
              "    }\n",
              "</style>\n",
              "<table border=\"1\" class=\"dataframe\">\n",
              "  <thead>\n",
              "    <tr style=\"text-align: right;\">\n",
              "      <th></th>\n",
              "      <th>utilization</th>\n",
              "      <th>Age</th>\n",
              "      <th>Num_loans</th>\n",
              "      <th>Num_dependents</th>\n",
              "      <th>MonthlyIncome</th>\n",
              "      <th>Num_Savings_Acccts</th>\n",
              "      <th>DebtRatio</th>\n",
              "      <th>Churn</th>\n",
              "      <th>PredictedChurn</th>\n",
              "    </tr>\n",
              "  </thead>\n",
              "  <tbody>\n",
              "    <tr>\n",
              "      <th>0</th>\n",
              "      <td>0.016310</td>\n",
              "      <td>55.0</td>\n",
              "      <td>2.0</td>\n",
              "      <td>0.0</td>\n",
              "      <td>6357.0</td>\n",
              "      <td>2.0</td>\n",
              "      <td>0.274502</td>\n",
              "      <td>0</td>\n",
              "      <td>0</td>\n",
              "    </tr>\n",
              "    <tr>\n",
              "      <th>1</th>\n",
              "      <td>1.000000</td>\n",
              "      <td>41.0</td>\n",
              "      <td>0.0</td>\n",
              "      <td>2.0</td>\n",
              "      <td>3682.0</td>\n",
              "      <td>3.0</td>\n",
              "      <td>0.366318</td>\n",
              "      <td>1</td>\n",
              "      <td>1</td>\n",
              "    </tr>\n",
              "    <tr>\n",
              "      <th>2</th>\n",
              "      <td>1.000000</td>\n",
              "      <td>42.0</td>\n",
              "      <td>0.0</td>\n",
              "      <td>2.0</td>\n",
              "      <td>8448.0</td>\n",
              "      <td>2.0</td>\n",
              "      <td>0.182915</td>\n",
              "      <td>1</td>\n",
              "      <td>1</td>\n",
              "    </tr>\n",
              "    <tr>\n",
              "      <th>3</th>\n",
              "      <td>0.339612</td>\n",
              "      <td>65.0</td>\n",
              "      <td>1.0</td>\n",
              "      <td>0.0</td>\n",
              "      <td>2996.0</td>\n",
              "      <td>8.0</td>\n",
              "      <td>0.640257</td>\n",
              "      <td>1</td>\n",
              "      <td>1</td>\n",
              "    </tr>\n",
              "    <tr>\n",
              "      <th>4</th>\n",
              "      <td>0.267830</td>\n",
              "      <td>51.0</td>\n",
              "      <td>2.0</td>\n",
              "      <td>0.0</td>\n",
              "      <td>5800.0</td>\n",
              "      <td>2.0</td>\n",
              "      <td>0.536964</td>\n",
              "      <td>0</td>\n",
              "      <td>1</td>\n",
              "    </tr>\n",
              "  </tbody>\n",
              "</table>\n",
              "</div>"
            ],
            "text/plain": [
              "   utilization   Age  Num_loans  ...  DebtRatio  Churn  PredictedChurn\n",
              "0     0.016310  55.0        2.0  ...   0.274502      0               0\n",
              "1     1.000000  41.0        0.0  ...   0.366318      1               1\n",
              "2     1.000000  42.0        0.0  ...   0.182915      1               1\n",
              "3     0.339612  65.0        1.0  ...   0.640257      1               1\n",
              "4     0.267830  51.0        2.0  ...   0.536964      0               1\n",
              "\n",
              "[5 rows x 9 columns]"
            ]
          },
          "metadata": {
            "tags": []
          },
          "execution_count": 18
        },
        {
          "output_type": "display_data",
          "data": {
            "image/png": "[encoded data removed]",
            "text/plain": [
              "<Figure size 432x288 with 1 Axes>"
            ]
          },
          "metadata": {
            "tags": [],
            "needs_background": "light"
          }
        }
      ]
    },
    {
      "cell_type": "code",
      "metadata": {
        "id": "hhTkAlqCljnj",
        "colab": {
          "base_uri": "https://localhost:8080/",
          "height": 90
        },
        "outputId": "424ac416-3890-408b-af96-beb05d36f400"
      },
      "source": [
        "!apt-get install dtreeplt"
      ],
      "execution_count": null,
      "outputs": [
        {
          "output_type": "stream",
          "text": [
            "Reading package lists... Done\n",
            "Building dependency tree       \n",
            "Reading state information... Done\n",
            "E: Unable to locate package dtreeplt\n"
          ],
          "name": "stdout"
        }
      ]
    },
    {
      "cell_type": "code",
      "metadata": {
        "id": "Bgqm5WE5lq4c"
      },
      "source": [
        "!pip install dtreeplt"
      ],
      "execution_count": null,
      "outputs": []
    },
    {
      "cell_type": "code",
      "metadata": {
        "id": "mzaOHvNrfljv",
        "colab": {
          "base_uri": "https://localhost:8080/",
          "height": 528
        },
        "outputId": "247ddf3f-2895-43d9-c34d-c34427666a48"
      },
      "source": [
        "#Plotting Decision tree\n",
        "from dtreeplt import dtreeplt\n",
        "import matplotlib.pyplot as plt\n",
        "\n",
        "# Plotting the decision tree\n",
        "Dtree = dtreeplt(model=dtree, feature_names=Predictors, target_names=Target)\n",
        "fig = Dtree.view()"
      ],
      "execution_count": null,
      "outputs": [
        {
          "output_type": "display_data",
          "data": {
            "image/png": "[encoded data removed]",
            "text/plain": [
              "<Figure size 1555.2x720 with 1 Axes>"
            ]
          },
          "metadata": {
            "tags": []
          }
        }
      ]
    },
    {
      "cell_type": "code",
      "metadata": {
        "id": "8yv9EW7nliI0",
        "colab": {
          "base_uri": "https://localhost:8080/",
          "height": 664
        },
        "outputId": "da2af640-9ed5-4eef-994e-79c767d9b53f"
      },
      "source": [
        "from sklearn.ensemble import RandomForestClassifier\n",
        "#Choose model parameters\n",
        "model = RandomForestClassifier(max_depth=2, n_estimators=1000, criterion='entropy')\n",
        "\n",
        "#Building model on training data\n",
        "RF = model.fit(X_train,y_train)\n",
        "pred = RF.predict(X_test)\n",
        "\n",
        "\n",
        "from sklearn import metrics\n",
        "print(metrics.classification_report(y_test, pred))\n",
        "print(metrics.confusion_matrix(y_test, pred))\n",
        "\n",
        "# Printing the Overall Accuracy of the model\n",
        "F1_Score=metrics.classification_report(y_test, pred).split()[-2]\n",
        "print('Accuracy of the model:', F1_Score)\n",
        "\n",
        "# Plotting the feature importance for Top 10 most important columns\n",
        "%matplotlib inline\n",
        "feature_importances = pd.Series(RF.feature_importances_, index=Predictors)\n",
        "feature_importances.nlargest(10).plot(kind='barh')\n",
        "\n",
        "\n",
        "# Printing some sample values of prediction\n",
        "TestingDataResults=pd.DataFrame(data=X_test, columns=Predictors)\n",
        "TestingDataResults[Target]=y_test\n",
        "TestingDataResults['Predicted'+ Target]=pred\n",
        "TestingDataResults.head()\n"
      ],
      "execution_count": null,
      "outputs": [
        {
          "output_type": "stream",
          "text": [
            "              precision    recall  f1-score   support\n",
            "\n",
            "           0       0.79      0.81      0.80     55005\n",
            "           1       0.80      0.78      0.79     55065\n",
            "\n",
            "    accuracy                           0.79    110070\n",
            "   macro avg       0.80      0.79      0.79    110070\n",
            "weighted avg       0.80      0.79      0.79    110070\n",
            "\n",
            "[[44497 10508]\n",
            " [12058 43007]]\n",
            "Accuracy of the model: 0.79\n"
          ],
          "name": "stdout"
        },
        {
          "output_type": "execute_result",
          "data": {
            "text/html": [
              "<div>\n",
              "<style scoped>\n",
              "    .dataframe tbody tr th:only-of-type {\n",
              "        vertical-align: middle;\n",
              "    }\n",
              "\n",
              "    .dataframe tbody tr th {\n",
              "        vertical-align: top;\n",
              "    }\n",
              "\n",
              "    .dataframe thead th {\n",
              "        text-align: right;\n",
              "    }\n",
              "</style>\n",
              "<table border=\"1\" class=\"dataframe\">\n",
              "  <thead>\n",
              "    <tr style=\"text-align: right;\">\n",
              "      <th></th>\n",
              "      <th>utilization</th>\n",
              "      <th>Age</th>\n",
              "      <th>Num_loans</th>\n",
              "      <th>Num_dependents</th>\n",
              "      <th>MonthlyIncome</th>\n",
              "      <th>Num_Savings_Acccts</th>\n",
              "      <th>DebtRatio</th>\n",
              "      <th>Churn</th>\n",
              "      <th>PredictedChurn</th>\n",
              "    </tr>\n",
              "  </thead>\n",
              "  <tbody>\n",
              "    <tr>\n",
              "      <th>0</th>\n",
              "      <td>0.016310</td>\n",
              "      <td>55.0</td>\n",
              "      <td>2.0</td>\n",
              "      <td>0.0</td>\n",
              "      <td>6357.0</td>\n",
              "      <td>2.0</td>\n",
              "      <td>0.274502</td>\n",
              "      <td>0</td>\n",
              "      <td>0</td>\n",
              "    </tr>\n",
              "    <tr>\n",
              "      <th>1</th>\n",
              "      <td>1.000000</td>\n",
              "      <td>41.0</td>\n",
              "      <td>0.0</td>\n",
              "      <td>2.0</td>\n",
              "      <td>3682.0</td>\n",
              "      <td>3.0</td>\n",
              "      <td>0.366318</td>\n",
              "      <td>1</td>\n",
              "      <td>1</td>\n",
              "    </tr>\n",
              "    <tr>\n",
              "      <th>2</th>\n",
              "      <td>1.000000</td>\n",
              "      <td>42.0</td>\n",
              "      <td>0.0</td>\n",
              "      <td>2.0</td>\n",
              "      <td>8448.0</td>\n",
              "      <td>2.0</td>\n",
              "      <td>0.182915</td>\n",
              "      <td>1</td>\n",
              "      <td>0</td>\n",
              "    </tr>\n",
              "    <tr>\n",
              "      <th>3</th>\n",
              "      <td>0.339612</td>\n",
              "      <td>65.0</td>\n",
              "      <td>1.0</td>\n",
              "      <td>0.0</td>\n",
              "      <td>2996.0</td>\n",
              "      <td>8.0</td>\n",
              "      <td>0.640257</td>\n",
              "      <td>1</td>\n",
              "      <td>1</td>\n",
              "    </tr>\n",
              "    <tr>\n",
              "      <th>4</th>\n",
              "      <td>0.267830</td>\n",
              "      <td>51.0</td>\n",
              "      <td>2.0</td>\n",
              "      <td>0.0</td>\n",
              "      <td>5800.0</td>\n",
              "      <td>2.0</td>\n",
              "      <td>0.536964</td>\n",
              "      <td>0</td>\n",
              "      <td>0</td>\n",
              "    </tr>\n",
              "  </tbody>\n",
              "</table>\n",
              "</div>"
            ],
            "text/plain": [
              "   utilization   Age  Num_loans  ...  DebtRatio  Churn  PredictedChurn\n",
              "0     0.016310  55.0        2.0  ...   0.274502      0               0\n",
              "1     1.000000  41.0        0.0  ...   0.366318      1               1\n",
              "2     1.000000  42.0        0.0  ...   0.182915      1               0\n",
              "3     0.339612  65.0        1.0  ...   0.640257      1               1\n",
              "4     0.267830  51.0        2.0  ...   0.536964      0               0\n",
              "\n",
              "[5 rows x 9 columns]"
            ]
          },
          "metadata": {
            "tags": []
          },
          "execution_count": 22
        },
        {
          "output_type": "display_data",
          "data": {
            "image/png": "[encoded data removed]",
            "text/plain": [
              "<Figure size 432x288 with 1 Axes>"
            ]
          },
          "metadata": {
            "tags": [],
            "needs_background": "light"
          }
        }
      ]
    },
    {
      "cell_type": "code",
      "metadata": {
        "id": "YxIqdoe_6WvD",
        "colab": {
          "base_uri": "https://localhost:8080/",
          "height": 664
        },
        "outputId": "f3b74804-dac4-48bd-da01-0e40bc61b304"
      },
      "source": [
        "from sklearn.ensemble import AdaBoostClassifier\n",
        "from sklearn.tree import DecisionTreeClassifier\n",
        "\n",
        "DTC = DecisionTreeClassifier(max_depth=2, criterion='entropy')\n",
        "model = AdaBoostClassifier(n_estimators=500, base_estimator=DTC, learning_rate=0.1)\n",
        "\n",
        "#Building model on training data\n",
        "AB = model.fit(X_train,y_train)\n",
        "pred = AB.predict(X_test)\n",
        "\n",
        "\n",
        "from sklearn import metrics\n",
        "print(metrics.classification_report(y_test, pred))\n",
        "print(metrics.confusion_matrix(y_test, pred))\n",
        "\n",
        "# Printing the Overall Accuracy of the model\n",
        "F1_Score=metrics.classification_report(y_test, pred).split()[-2]\n",
        "print('Accuracy of the model:', F1_Score)\n",
        "\n",
        "# Plotting the feature importance for Top 10 most important columns\n",
        "%matplotlib inline\n",
        "feature_importances = pd.Series(AB.feature_importances_, index=Predictors)\n",
        "feature_importances.nlargest(10).plot(kind='barh')\n",
        "\n",
        "\n",
        "# Printing some sample values of prediction\n",
        "TestingDataResults=pd.DataFrame(data=X_test, columns=Predictors)\n",
        "TestingDataResults[Target]=y_test\n",
        "TestingDataResults['Predicted'+ Target]=pred\n",
        "TestingDataResults.head()\n"
      ],
      "execution_count": null,
      "outputs": [
        {
          "output_type": "stream",
          "text": [
            "              precision    recall  f1-score   support\n",
            "\n",
            "           0       0.85      0.86      0.85     55005\n",
            "           1       0.86      0.85      0.85     55065\n",
            "\n",
            "    accuracy                           0.85    110070\n",
            "   macro avg       0.85      0.85      0.85    110070\n",
            "weighted avg       0.85      0.85      0.85    110070\n",
            "\n",
            "[[47240  7765]\n",
            " [ 8412 46653]]\n",
            "Accuracy of the model: 0.85\n"
          ],
          "name": "stdout"
        },
        {
          "output_type": "execute_result",
          "data": {
            "text/html": [
              "<div>\n",
              "<style scoped>\n",
              "    .dataframe tbody tr th:only-of-type {\n",
              "        vertical-align: middle;\n",
              "    }\n",
              "\n",
              "    .dataframe tbody tr th {\n",
              "        vertical-align: top;\n",
              "    }\n",
              "\n",
              "    .dataframe thead th {\n",
              "        text-align: right;\n",
              "    }\n",
              "</style>\n",
              "<table border=\"1\" class=\"dataframe\">\n",
              "  <thead>\n",
              "    <tr style=\"text-align: right;\">\n",
              "      <th></th>\n",
              "      <th>utilization</th>\n",
              "      <th>Age</th>\n",
              "      <th>Num_loans</th>\n",
              "      <th>Num_dependents</th>\n",
              "      <th>MonthlyIncome</th>\n",
              "      <th>Num_Savings_Acccts</th>\n",
              "      <th>DebtRatio</th>\n",
              "      <th>Churn</th>\n",
              "      <th>PredictedChurn</th>\n",
              "    </tr>\n",
              "  </thead>\n",
              "  <tbody>\n",
              "    <tr>\n",
              "      <th>0</th>\n",
              "      <td>0.016310</td>\n",
              "      <td>55.0</td>\n",
              "      <td>2.0</td>\n",
              "      <td>0.0</td>\n",
              "      <td>6357.0</td>\n",
              "      <td>2.0</td>\n",
              "      <td>0.274502</td>\n",
              "      <td>0</td>\n",
              "      <td>0</td>\n",
              "    </tr>\n",
              "    <tr>\n",
              "      <th>1</th>\n",
              "      <td>1.000000</td>\n",
              "      <td>41.0</td>\n",
              "      <td>0.0</td>\n",
              "      <td>2.0</td>\n",
              "      <td>3682.0</td>\n",
              "      <td>3.0</td>\n",
              "      <td>0.366318</td>\n",
              "      <td>1</td>\n",
              "      <td>1</td>\n",
              "    </tr>\n",
              "    <tr>\n",
              "      <th>2</th>\n",
              "      <td>1.000000</td>\n",
              "      <td>42.0</td>\n",
              "      <td>0.0</td>\n",
              "      <td>2.0</td>\n",
              "      <td>8448.0</td>\n",
              "      <td>2.0</td>\n",
              "      <td>0.182915</td>\n",
              "      <td>1</td>\n",
              "      <td>1</td>\n",
              "    </tr>\n",
              "    <tr>\n",
              "      <th>3</th>\n",
              "      <td>0.339612</td>\n",
              "      <td>65.0</td>\n",
              "      <td>1.0</td>\n",
              "      <td>0.0</td>\n",
              "      <td>2996.0</td>\n",
              "      <td>8.0</td>\n",
              "      <td>0.640257</td>\n",
              "      <td>1</td>\n",
              "      <td>1</td>\n",
              "    </tr>\n",
              "    <tr>\n",
              "      <th>4</th>\n",
              "      <td>0.267830</td>\n",
              "      <td>51.0</td>\n",
              "      <td>2.0</td>\n",
              "      <td>0.0</td>\n",
              "      <td>5800.0</td>\n",
              "      <td>2.0</td>\n",
              "      <td>0.536964</td>\n",
              "      <td>0</td>\n",
              "      <td>1</td>\n",
              "    </tr>\n",
              "  </tbody>\n",
              "</table>\n",
              "</div>"
            ],
            "text/plain": [
              "   utilization   Age  Num_loans  ...  DebtRatio  Churn  PredictedChurn\n",
              "0     0.016310  55.0        2.0  ...   0.274502      0               0\n",
              "1     1.000000  41.0        0.0  ...   0.366318      1               1\n",
              "2     1.000000  42.0        0.0  ...   0.182915      1               1\n",
              "3     0.339612  65.0        1.0  ...   0.640257      1               1\n",
              "4     0.267830  51.0        2.0  ...   0.536964      0               1\n",
              "\n",
              "[5 rows x 9 columns]"
            ]
          },
          "metadata": {
            "tags": []
          },
          "execution_count": 23
        },
        {
          "output_type": "display_data",
          "data": {
            "image/png": "[encoded data removed]",
            "text/plain": [
              "<Figure size 432x288 with 1 Axes>"
            ]
          },
          "metadata": {
            "tags": [],
            "needs_background": "light"
          }
        }
      ]
    },
    {
      "cell_type": "code",
      "metadata": {
        "id": "Pl3txZH48LCl",
        "colab": {
          "base_uri": "https://localhost:8080/",
          "height": 664
        },
        "outputId": "3151f0ca-5c0a-44d9-8acd-74eceef03dbb"
      },
      "source": [
        "from xgboost import XGBClassifier\n",
        "\n",
        "model = XGBClassifier(max_depth=2, learning_rate=0.1,n_estimators=500, objective='binary:logistic', booster='gbtree')\n",
        "\n",
        "#Building model on training data\n",
        "XGB = model.fit(X_train,y_train)\n",
        "pred = XGB.predict(X_test)\n",
        "\n",
        "\n",
        "from sklearn import metrics\n",
        "print(metrics.classification_report(y_test, pred))\n",
        "print(metrics.confusion_matrix(y_test, pred))\n",
        "\n",
        "# Printing the Overall Accuracy of the model\n",
        "F1_Score=metrics.classification_report(y_test, pred).split()[-2]\n",
        "print('Accuracy of the model:', F1_Score)\n",
        "\n",
        "# Plotting the feature importance for Top 10 most important columns\n",
        "%matplotlib inline\n",
        "feature_importances = pd.Series(XGB.feature_importances_, index=Predictors)\n",
        "feature_importances.nlargest(10).plot(kind='barh')\n",
        "\n",
        "\n",
        "# Printing some sample values of prediction\n",
        "TestingDataResults=pd.DataFrame(data=X_test, columns=Predictors)\n",
        "TestingDataResults[Target]=y_test\n",
        "TestingDataResults['Predicted'+ Target]=pred\n",
        "TestingDataResults.head()"
      ],
      "execution_count": null,
      "outputs": [
        {
          "output_type": "stream",
          "text": [
            "              precision    recall  f1-score   support\n",
            "\n",
            "           0       0.84      0.86      0.85     55005\n",
            "           1       0.85      0.84      0.85     55065\n",
            "\n",
            "    accuracy                           0.85    110070\n",
            "   macro avg       0.85      0.85      0.85    110070\n",
            "weighted avg       0.85      0.85      0.85    110070\n",
            "\n",
            "[[47049  7956]\n",
            " [ 8670 46395]]\n",
            "Accuracy of the model: 0.85\n"
          ],
          "name": "stdout"
        },
        {
          "output_type": "execute_result",
          "data": {
            "text/html": [
              "<div>\n",
              "<style scoped>\n",
              "    .dataframe tbody tr th:only-of-type {\n",
              "        vertical-align: middle;\n",
              "    }\n",
              "\n",
              "    .dataframe tbody tr th {\n",
              "        vertical-align: top;\n",
              "    }\n",
              "\n",
              "    .dataframe thead th {\n",
              "        text-align: right;\n",
              "    }\n",
              "</style>\n",
              "<table border=\"1\" class=\"dataframe\">\n",
              "  <thead>\n",
              "    <tr style=\"text-align: right;\">\n",
              "      <th></th>\n",
              "      <th>utilization</th>\n",
              "      <th>Age</th>\n",
              "      <th>Num_loans</th>\n",
              "      <th>Num_dependents</th>\n",
              "      <th>MonthlyIncome</th>\n",
              "      <th>Num_Savings_Acccts</th>\n",
              "      <th>DebtRatio</th>\n",
              "      <th>Churn</th>\n",
              "      <th>PredictedChurn</th>\n",
              "    </tr>\n",
              "  </thead>\n",
              "  <tbody>\n",
              "    <tr>\n",
              "      <th>0</th>\n",
              "      <td>0.016310</td>\n",
              "      <td>55.0</td>\n",
              "      <td>2.0</td>\n",
              "      <td>0.0</td>\n",
              "      <td>6357.0</td>\n",
              "      <td>2.0</td>\n",
              "      <td>0.274502</td>\n",
              "      <td>0</td>\n",
              "      <td>0</td>\n",
              "    </tr>\n",
              "    <tr>\n",
              "      <th>1</th>\n",
              "      <td>1.000000</td>\n",
              "      <td>41.0</td>\n",
              "      <td>0.0</td>\n",
              "      <td>2.0</td>\n",
              "      <td>3682.0</td>\n",
              "      <td>3.0</td>\n",
              "      <td>0.366318</td>\n",
              "      <td>1</td>\n",
              "      <td>1</td>\n",
              "    </tr>\n",
              "    <tr>\n",
              "      <th>2</th>\n",
              "      <td>1.000000</td>\n",
              "      <td>42.0</td>\n",
              "      <td>0.0</td>\n",
              "      <td>2.0</td>\n",
              "      <td>8448.0</td>\n",
              "      <td>2.0</td>\n",
              "      <td>0.182915</td>\n",
              "      <td>1</td>\n",
              "      <td>1</td>\n",
              "    </tr>\n",
              "    <tr>\n",
              "      <th>3</th>\n",
              "      <td>0.339612</td>\n",
              "      <td>65.0</td>\n",
              "      <td>1.0</td>\n",
              "      <td>0.0</td>\n",
              "      <td>2996.0</td>\n",
              "      <td>8.0</td>\n",
              "      <td>0.640257</td>\n",
              "      <td>1</td>\n",
              "      <td>1</td>\n",
              "    </tr>\n",
              "    <tr>\n",
              "      <th>4</th>\n",
              "      <td>0.267830</td>\n",
              "      <td>51.0</td>\n",
              "      <td>2.0</td>\n",
              "      <td>0.0</td>\n",
              "      <td>5800.0</td>\n",
              "      <td>2.0</td>\n",
              "      <td>0.536964</td>\n",
              "      <td>0</td>\n",
              "      <td>0</td>\n",
              "    </tr>\n",
              "  </tbody>\n",
              "</table>\n",
              "</div>"
            ],
            "text/plain": [
              "   utilization   Age  Num_loans  ...  DebtRatio  Churn  PredictedChurn\n",
              "0     0.016310  55.0        2.0  ...   0.274502      0               0\n",
              "1     1.000000  41.0        0.0  ...   0.366318      1               1\n",
              "2     1.000000  42.0        0.0  ...   0.182915      1               1\n",
              "3     0.339612  65.0        1.0  ...   0.640257      1               1\n",
              "4     0.267830  51.0        2.0  ...   0.536964      0               0\n",
              "\n",
              "[5 rows x 9 columns]"
            ]
          },
          "metadata": {
            "tags": []
          },
          "execution_count": 24
        },
        {
          "output_type": "display_data",
          "data": {
            "image/png": "[encoded data removed]",
            "text/plain": [
              "<Figure size 432x288 with 1 Axes>"
            ]
          },
          "metadata": {
            "tags": [],
            "needs_background": "light"
          }
        }
      ]
    },
    {
      "cell_type": "code",
      "metadata": {
        "id": "y118bcb_-u44"
      },
      "source": [
        ""
      ],
      "execution_count": null,
      "outputs": []
    },
    {
      "cell_type": "code",
      "metadata": {
        "id": "VVUzB3dh-vfi"
      },
      "source": [
        "from imblearn.over_sampling import RandomOverSampler\n",
        "ros= RandomOverSampler(random_state=24, ratio=1)"
      ],
      "execution_count": null,
      "outputs": []
    },
    {
      "cell_type": "code",
      "metadata": {
        "id": "evx-RXAH-vfo",
        "colab": {
          "base_uri": "https://localhost:8080/",
          "height": 146
        },
        "outputId": "957e2746-7799-4e70-c3e8-037ddc644ed7"
      },
      "source": [
        "# Separate Target Variable and Predictor Variables\n",
        "Target='Churn'\n",
        "Predictors=['utilization', 'Age', 'Num_loans', 'Num_dependents','MonthlyIncome', 'Num_Savings_Acccts', 'DebtRatio']\n",
        "\n",
        "\n",
        "X=Data[Predictors].values\n",
        "y=Data[Target].values\n",
        "\n",
        "# Treating Imbalance\n",
        "X,y = ros.fit_resample(X,y)\n",
        "\n",
        "### Sandardization of data ###\n",
        "### We does not standardize the Target variable for classification\n",
        "from sklearn.preprocessing import StandardScaler\n",
        "PredictorScaler=StandardScaler()\n",
        "\n",
        "# Storing the fit object for later reference\n",
        "PredictorScalerFit=PredictorScaler.fit(X)\n",
        "\n",
        "# Generating the standardized values of X and y\n",
        "X=PredictorScalerFit.transform(X)\n",
        "\n",
        "# Split the data into training and testing set\n",
        "from sklearn.model_selection import train_test_split\n",
        "X_train, X_test, y_train, y_test = train_test_split(X, y, test_size=0.40, random_state=24)\n",
        "\n",
        "# Quick sanity check with the shapes of Training and testing datasets\n",
        "print(X_train.shape)\n",
        "print(y_train.shape)\n",
        "print(X_test.shape)\n",
        "print(y_test.shape)"
      ],
      "execution_count": null,
      "outputs": [
        {
          "output_type": "stream",
          "text": [
            "(165104, 7)\n",
            "(165104,)\n",
            "(110070, 7)\n",
            "(110070,)\n"
          ],
          "name": "stdout"
        },
        {
          "output_type": "stream",
          "text": [
            "/usr/local/lib/python3.6/dist-packages/sklearn/utils/deprecation.py:87: FutureWarning: Function safe_indexing is deprecated; safe_indexing is deprecated in version 0.22 and will be removed in version 0.24.\n",
            "  warnings.warn(msg, category=FutureWarning)\n"
          ],
          "name": "stderr"
        }
      ]
    },
    {
      "cell_type": "markdown",
      "metadata": {
        "id": "ZgnuM739LSwR"
      },
      "source": [
        "### KNN"
      ]
    },
    {
      "cell_type": "code",
      "metadata": {
        "id": "_Cv0bkvC9VGA",
        "colab": {
          "base_uri": "https://localhost:8080/",
          "height": 416
        },
        "outputId": "fe839ca2-369d-4525-ad68-9f0f241224eb"
      },
      "source": [
        "from sklearn.neighbors import KNeighborsClassifier\n",
        "\n",
        "model = KNeighborsClassifier(n_neighbors=3)\n",
        "\n",
        "\n",
        "#Building model on training data\n",
        "KNN = model.fit(X_train,y_train)\n",
        "pred = KNN.predict(X_test)\n",
        "\n",
        "\n",
        "from sklearn import metrics\n",
        "print(metrics.classification_report(y_test, pred))\n",
        "print(metrics.confusion_matrix(y_test, pred))\n",
        "\n",
        "# Printing the Overall Accuracy of the model\n",
        "F1_Score=metrics.classification_report(y_test, pred).split()[-2]\n",
        "print('Accuracy of the model:', F1_Score)\n",
        "\n",
        "# Scaling the test data back to original scale\n",
        "Test_Data=PredictorScalerFit.inverse_transform(X_test)\n",
        "\n",
        "# Printing some sample values of prediction\n",
        "TestingDataResults=pd.DataFrame(data=Test_Data, columns=Predictors)\n",
        "TestingDataResults[Target]=y_test\n",
        "TestingDataResults['Predicted'+ Target]=pred\n",
        "TestingDataResults.head()"
      ],
      "execution_count": null,
      "outputs": [
        {
          "output_type": "stream",
          "text": [
            "              precision    recall  f1-score   support\n",
            "\n",
            "           0       1.00      0.88      0.94     55005\n",
            "           1       0.89      1.00      0.94     55065\n",
            "\n",
            "    accuracy                           0.94    110070\n",
            "   macro avg       0.95      0.94      0.94    110070\n",
            "weighted avg       0.95      0.94      0.94    110070\n",
            "\n",
            "[[48495  6510]\n",
            " [   32 55033]]\n",
            "Accuracy of the model: 0.94\n"
          ],
          "name": "stdout"
        },
        {
          "output_type": "execute_result",
          "data": {
            "text/html": [
              "<div>\n",
              "<style scoped>\n",
              "    .dataframe tbody tr th:only-of-type {\n",
              "        vertical-align: middle;\n",
              "    }\n",
              "\n",
              "    .dataframe tbody tr th {\n",
              "        vertical-align: top;\n",
              "    }\n",
              "\n",
              "    .dataframe thead th {\n",
              "        text-align: right;\n",
              "    }\n",
              "</style>\n",
              "<table border=\"1\" class=\"dataframe\">\n",
              "  <thead>\n",
              "    <tr style=\"text-align: right;\">\n",
              "      <th></th>\n",
              "      <th>utilization</th>\n",
              "      <th>Age</th>\n",
              "      <th>Num_loans</th>\n",
              "      <th>Num_dependents</th>\n",
              "      <th>MonthlyIncome</th>\n",
              "      <th>Num_Savings_Acccts</th>\n",
              "      <th>DebtRatio</th>\n",
              "      <th>Churn</th>\n",
              "      <th>PredictedChurn</th>\n",
              "    </tr>\n",
              "  </thead>\n",
              "  <tbody>\n",
              "    <tr>\n",
              "      <th>0</th>\n",
              "      <td>0.016310</td>\n",
              "      <td>55.0</td>\n",
              "      <td>2.0</td>\n",
              "      <td>0.0</td>\n",
              "      <td>6357.0</td>\n",
              "      <td>2.0</td>\n",
              "      <td>0.274502</td>\n",
              "      <td>0</td>\n",
              "      <td>0</td>\n",
              "    </tr>\n",
              "    <tr>\n",
              "      <th>1</th>\n",
              "      <td>1.000000</td>\n",
              "      <td>41.0</td>\n",
              "      <td>0.0</td>\n",
              "      <td>2.0</td>\n",
              "      <td>3682.0</td>\n",
              "      <td>3.0</td>\n",
              "      <td>0.366318</td>\n",
              "      <td>1</td>\n",
              "      <td>1</td>\n",
              "    </tr>\n",
              "    <tr>\n",
              "      <th>2</th>\n",
              "      <td>1.000000</td>\n",
              "      <td>42.0</td>\n",
              "      <td>0.0</td>\n",
              "      <td>2.0</td>\n",
              "      <td>8448.0</td>\n",
              "      <td>2.0</td>\n",
              "      <td>0.182915</td>\n",
              "      <td>1</td>\n",
              "      <td>1</td>\n",
              "    </tr>\n",
              "    <tr>\n",
              "      <th>3</th>\n",
              "      <td>0.339612</td>\n",
              "      <td>65.0</td>\n",
              "      <td>1.0</td>\n",
              "      <td>0.0</td>\n",
              "      <td>2996.0</td>\n",
              "      <td>8.0</td>\n",
              "      <td>0.640257</td>\n",
              "      <td>1</td>\n",
              "      <td>1</td>\n",
              "    </tr>\n",
              "    <tr>\n",
              "      <th>4</th>\n",
              "      <td>0.267830</td>\n",
              "      <td>51.0</td>\n",
              "      <td>2.0</td>\n",
              "      <td>0.0</td>\n",
              "      <td>5800.0</td>\n",
              "      <td>2.0</td>\n",
              "      <td>0.536964</td>\n",
              "      <td>0</td>\n",
              "      <td>1</td>\n",
              "    </tr>\n",
              "  </tbody>\n",
              "</table>\n",
              "</div>"
            ],
            "text/plain": [
              "   utilization   Age  Num_loans  ...  DebtRatio  Churn  PredictedChurn\n",
              "0     0.016310  55.0        2.0  ...   0.274502      0               0\n",
              "1     1.000000  41.0        0.0  ...   0.366318      1               1\n",
              "2     1.000000  42.0        0.0  ...   0.182915      1               1\n",
              "3     0.339612  65.0        1.0  ...   0.640257      1               1\n",
              "4     0.267830  51.0        2.0  ...   0.536964      0               1\n",
              "\n",
              "[5 rows x 9 columns]"
            ]
          },
          "metadata": {
            "tags": []
          },
          "execution_count": 28
        }
      ]
    },
    {
      "cell_type": "code",
      "metadata": {
        "id": "ZKcORn5Q_LGP"
      },
      "source": [
        "from sklearn import svm\n",
        "model = svm.SVC(C=10, kernel='rbf', gamma=0.01)\n",
        "#Building model on training data\n",
        "SVM = model.fit(X_train,y_train)\n",
        "pred = SVM.predict(X_test)\n"
      ],
      "execution_count": null,
      "outputs": []
    },
    {
      "cell_type": "code",
      "metadata": {
        "id": "xVNx0UUGYkSk"
      },
      "source": [
        "from sklearn import svm\n",
        "\n",
        "model = svm.SVC(C=10, kernel='rbf', gamma=0.01)\n",
        "\n",
        "\n",
        "#Building model on training data\n",
        "SVM = model.fit(X_train,y_train)\n",
        "pred = SVM.predict(X_test)\n",
        "\n",
        "\n",
        "from sklearn import metrics\n",
        "print(metrics.classification_report(y_test, pred))\n",
        "print(metrics.confusion_matrix(y_test, pred))\n",
        "\n",
        "# Printing the Overall Accuracy of the model\n",
        "F1_Score=metrics.classification_report(y_test, pred).split()[-2]\n",
        "print('Accuracy of the model:', F1_Score)\n",
        "\n",
        "# Plotting the feature importance for Top 10 most important columns\n",
        "#Works only for kernel = linear \n",
        "#%matplotlib inline\n",
        "#feature_importances = pd.Series(XGB.feature_importances_, index=Predictors)\n",
        "#feature_importances.nlargest(10).plot(kind='barh')\n",
        "\n",
        "# Scaling the test data back to original scale\n",
        "Test_Data=PredictorScalerFit.inverse_transform(X_test)\n",
        "\n",
        "# Printing some sample values of prediction\n",
        "TestingDataResults=pd.DataFrame(data=Test_Data, columns=Predictors)\n",
        "TestingDataResults[Target]=y_test\n",
        "TestingDataResults['Predicted'+ Target]=pred\n",
        "TestingDataResults.head()"
      ],
      "execution_count": null,
      "outputs": []
    },
    {
      "cell_type": "code",
      "metadata": {
        "id": "kr0uwD4bYkP2",
        "colab": {
          "base_uri": "https://localhost:8080/",
          "height": 416
        },
        "outputId": "f38cd31e-7f13-4d57-98f7-f17b6207a5ef"
      },
      "source": [
        "from sklearn.naive_bayes import GaussianNB, MultinomialNB\n",
        "\n",
        "model = GaussianNB()\n",
        "#model = MultinomialNB()\n",
        "\n",
        "\n",
        "#Building model on training data\n",
        "NB = model.fit(X_train,y_train)\n",
        "pred = NB.predict(X_test)\n",
        "\n",
        "\n",
        "from sklearn import metrics\n",
        "print(metrics.classification_report(y_test, pred))\n",
        "print(metrics.confusion_matrix(y_test, pred))\n",
        "\n",
        "# Printing the Overall Accuracy of the model\n",
        "F1_Score=metrics.classification_report(y_test, pred).split()[-2]\n",
        "print('Accuracy of the model:', F1_Score)\n",
        "\n",
        "# Plotting the feature importance for Top 10 most important columns\n",
        "# not available\n",
        "\n",
        "# Scaling the test data back to original scale\n",
        "Test_Data=PredictorScalerFit.inverse_transform(X_test)\n",
        "\n",
        "# Printing some sample values of prediction\n",
        "TestingDataResults=pd.DataFrame(data=Test_Data, columns=Predictors)\n",
        "TestingDataResults[Target]=y_test\n",
        "TestingDataResults['Predicted'+ Target]=pred\n",
        "TestingDataResults.head()\n"
      ],
      "execution_count": null,
      "outputs": [
        {
          "output_type": "stream",
          "text": [
            "              precision    recall  f1-score   support\n",
            "\n",
            "           0       0.74      0.74      0.74     55005\n",
            "           1       0.74      0.74      0.74     55065\n",
            "\n",
            "    accuracy                           0.74    110070\n",
            "   macro avg       0.74      0.74      0.74    110070\n",
            "weighted avg       0.74      0.74      0.74    110070\n",
            "\n",
            "[[40831 14174]\n",
            " [14053 41012]]\n",
            "Accuracy of the model: 0.74\n"
          ],
          "name": "stdout"
        },
        {
          "output_type": "execute_result",
          "data": {
            "text/html": [
              "<div>\n",
              "<style scoped>\n",
              "    .dataframe tbody tr th:only-of-type {\n",
              "        vertical-align: middle;\n",
              "    }\n",
              "\n",
              "    .dataframe tbody tr th {\n",
              "        vertical-align: top;\n",
              "    }\n",
              "\n",
              "    .dataframe thead th {\n",
              "        text-align: right;\n",
              "    }\n",
              "</style>\n",
              "<table border=\"1\" class=\"dataframe\">\n",
              "  <thead>\n",
              "    <tr style=\"text-align: right;\">\n",
              "      <th></th>\n",
              "      <th>utilization</th>\n",
              "      <th>Age</th>\n",
              "      <th>Num_loans</th>\n",
              "      <th>Num_dependents</th>\n",
              "      <th>MonthlyIncome</th>\n",
              "      <th>Num_Savings_Acccts</th>\n",
              "      <th>DebtRatio</th>\n",
              "      <th>Churn</th>\n",
              "      <th>PredictedChurn</th>\n",
              "    </tr>\n",
              "  </thead>\n",
              "  <tbody>\n",
              "    <tr>\n",
              "      <th>0</th>\n",
              "      <td>0.016310</td>\n",
              "      <td>55.0</td>\n",
              "      <td>2.0</td>\n",
              "      <td>0.0</td>\n",
              "      <td>6357.0</td>\n",
              "      <td>2.0</td>\n",
              "      <td>0.274502</td>\n",
              "      <td>0</td>\n",
              "      <td>0</td>\n",
              "    </tr>\n",
              "    <tr>\n",
              "      <th>1</th>\n",
              "      <td>1.000000</td>\n",
              "      <td>41.0</td>\n",
              "      <td>0.0</td>\n",
              "      <td>2.0</td>\n",
              "      <td>3682.0</td>\n",
              "      <td>3.0</td>\n",
              "      <td>0.366318</td>\n",
              "      <td>1</td>\n",
              "      <td>1</td>\n",
              "    </tr>\n",
              "    <tr>\n",
              "      <th>2</th>\n",
              "      <td>1.000000</td>\n",
              "      <td>42.0</td>\n",
              "      <td>0.0</td>\n",
              "      <td>2.0</td>\n",
              "      <td>8448.0</td>\n",
              "      <td>2.0</td>\n",
              "      <td>0.182915</td>\n",
              "      <td>1</td>\n",
              "      <td>1</td>\n",
              "    </tr>\n",
              "    <tr>\n",
              "      <th>3</th>\n",
              "      <td>0.339612</td>\n",
              "      <td>65.0</td>\n",
              "      <td>1.0</td>\n",
              "      <td>0.0</td>\n",
              "      <td>2996.0</td>\n",
              "      <td>8.0</td>\n",
              "      <td>0.640257</td>\n",
              "      <td>1</td>\n",
              "      <td>1</td>\n",
              "    </tr>\n",
              "    <tr>\n",
              "      <th>4</th>\n",
              "      <td>0.267830</td>\n",
              "      <td>51.0</td>\n",
              "      <td>2.0</td>\n",
              "      <td>0.0</td>\n",
              "      <td>5800.0</td>\n",
              "      <td>2.0</td>\n",
              "      <td>0.536964</td>\n",
              "      <td>0</td>\n",
              "      <td>0</td>\n",
              "    </tr>\n",
              "  </tbody>\n",
              "</table>\n",
              "</div>"
            ],
            "text/plain": [
              "   utilization   Age  Num_loans  ...  DebtRatio  Churn  PredictedChurn\n",
              "0     0.016310  55.0        2.0  ...   0.274502      0               0\n",
              "1     1.000000  41.0        0.0  ...   0.366318      1               1\n",
              "2     1.000000  42.0        0.0  ...   0.182915      1               1\n",
              "3     0.339612  65.0        1.0  ...   0.640257      1               1\n",
              "4     0.267830  51.0        2.0  ...   0.536964      0               0\n",
              "\n",
              "[5 rows x 9 columns]"
            ]
          },
          "metadata": {
            "tags": []
          },
          "execution_count": 29
        }
      ]
    },
    {
      "cell_type": "code",
      "metadata": {
        "id": "Q1Ts84XuDGuC"
      },
      "source": [
        ""
      ],
      "execution_count": null,
      "outputs": []
    },
    {
      "cell_type": "markdown",
      "metadata": {
        "id": "Ka440AjPFbYU"
      },
      "source": [
        "## K-Fold Cross Validation"
      ]
    },
    {
      "cell_type": "code",
      "metadata": {
        "id": "uIvWACWYFbYU"
      },
      "source": [
        "# Importing cross validation function from sklearn\n",
        "from sklearn.model_selection import cross_val_score"
      ],
      "execution_count": null,
      "outputs": []
    },
    {
      "cell_type": "code",
      "metadata": {
        "scrolled": true,
        "id": "54XYHYQmFbYW",
        "colab": {
          "base_uri": "https://localhost:8080/",
          "height": 72
        },
        "outputId": "862b86b5-05a6-4f7f-bf61-f7fefe6be8e2"
      },
      "source": [
        "# Running 10-Fold Cross validation on a given algorithm\n",
        "# Passing full data X and y because the K-fold will split the data and automatically choose train/test\n",
        "Accuracy_Values=cross_val_score(KNN, X , y, cv=10, scoring='f1_weighted')\n",
        "print(Accuracy_Values)\n",
        "print('Final Average Accuracy of the model:', Accuracy_Values.mean())"
      ],
      "execution_count": null,
      "outputs": [
        {
          "output_type": "stream",
          "text": [
            "[0.9120415  0.94316375 0.94217291 0.91501375 0.91864556 0.94231749\n",
            " 0.94198714 0.91571616 0.91675508 0.88943949]\n",
            "Final Average Accuracy of the model: 0.9237252826818336\n"
          ],
          "name": "stdout"
        }
      ]
    },
    {
      "cell_type": "markdown",
      "metadata": {
        "id": "eOudlzS7FbYa"
      },
      "source": [
        "# Deployment of the Model\n",
        "In order to deploy the model we follow below steps\n",
        "1. Train the model using 100% data available\n",
        "2. Save the model as a serialized file which can be stored anywhere\n",
        "3. Create a python function which gets integrated with front-end(Tableau/Java Website etc.) to take all the inputs and returns the rating of restaurent(s)"
      ]
    },
    {
      "cell_type": "markdown",
      "metadata": {
        "id": "Tp3WUrvtFbYa"
      },
      "source": [
        "#### Step 1. Retraining the model using 100% data"
      ]
    },
    {
      "cell_type": "code",
      "metadata": {
        "id": "xb6uQy0sFbYb"
      },
      "source": [
        "# Training the model on 100% Data available\n",
        "FinalKNNModel=KNN.fit(X,y)"
      ],
      "execution_count": null,
      "outputs": []
    },
    {
      "cell_type": "code",
      "metadata": {
        "id": "UtpIH8tJGtKZ"
      },
      "source": [
        ""
      ],
      "execution_count": null,
      "outputs": []
    },
    {
      "cell_type": "code",
      "metadata": {
        "id": "a6OAedvSFbZd",
        "colab": {
          "base_uri": "https://localhost:8080/",
          "height": 35
        },
        "outputId": "3ebec8a6-e994-4fc2-fc9d-0cd3cc871cfa"
      },
      "source": [
        "# Saving the model as pickle file\n",
        "import pickle\n",
        "import os\n",
        "\n",
        "# Saving the Python objects as serialized files can be done using pickle library\n",
        "# Here let us save the Final ZomatoRatingModel\n",
        "with open('FinalKNNModel.pkl', 'wb') as fileWriteStream:\n",
        "    pickle.dump(FinalKNNModel, fileWriteStream)\n",
        "    # Don't forget to close the filestream!\n",
        "    fileWriteStream.close()\n",
        "    \n",
        "print('pickle file of Predictive Model is saved at Location:',os.getcwd())"
      ],
      "execution_count": null,
      "outputs": [
        {
          "output_type": "stream",
          "text": [
            "pickle file of Predictive Model is saved at Location: /content\n"
          ],
          "name": "stdout"
        }
      ]
    },
    {
      "cell_type": "code",
      "metadata": {
        "id": "0NKm-kFeFbYg"
      },
      "source": [
        "# This function will take input one or more rows of restaurent details and output their ratings\n",
        "# This can be called from any from any front end tool/website\n",
        "def PredictLoanStatus(InputLoanDetails):\n",
        "    \n",
        "    # Loading the Function from pickle file\n",
        "    with open('FinalKNNModel.pkl', 'rb') as fileReadStream:\n",
        "        KNN_model=pickle.load(fileReadStream)\n",
        "        # Don't forget to close the filestream!\n",
        "        fileReadStream.close()\n",
        "        \n",
        "    # Genrating Predictions\n",
        "    Prediction=KNN_model.predict(InputLoanDetails)\n",
        "    PredictedStatus=pd.DataFrame(Prediction, columns=['Predicted Status'])\n",
        "    return(PredictedStatus)"
      ],
      "execution_count": null,
      "outputs": []
    },
    {
      "cell_type": "code",
      "metadata": {
        "id": "NmM0fFg7FbYi",
        "colab": {
          "base_uri": "https://localhost:8080/",
          "height": 198
        },
        "outputId": "8eb35579-b11b-4adc-c38f-faf730bc5e4f"
      },
      "source": [
        "#Calling the function for some loan cases from the data\n",
        "PredictLoanStatus(InputLoanDetails=X[0:5,:])"
      ],
      "execution_count": null,
      "outputs": [
        {
          "output_type": "execute_result",
          "data": {
            "text/html": [
              "<div>\n",
              "<style scoped>\n",
              "    .dataframe tbody tr th:only-of-type {\n",
              "        vertical-align: middle;\n",
              "    }\n",
              "\n",
              "    .dataframe tbody tr th {\n",
              "        vertical-align: top;\n",
              "    }\n",
              "\n",
              "    .dataframe thead th {\n",
              "        text-align: right;\n",
              "    }\n",
              "</style>\n",
              "<table border=\"1\" class=\"dataframe\">\n",
              "  <thead>\n",
              "    <tr style=\"text-align: right;\">\n",
              "      <th></th>\n",
              "      <th>Predicted Status</th>\n",
              "    </tr>\n",
              "  </thead>\n",
              "  <tbody>\n",
              "    <tr>\n",
              "      <th>0</th>\n",
              "      <td>1</td>\n",
              "    </tr>\n",
              "    <tr>\n",
              "      <th>1</th>\n",
              "      <td>0</td>\n",
              "    </tr>\n",
              "    <tr>\n",
              "      <th>2</th>\n",
              "      <td>0</td>\n",
              "    </tr>\n",
              "    <tr>\n",
              "      <th>3</th>\n",
              "      <td>0</td>\n",
              "    </tr>\n",
              "    <tr>\n",
              "      <th>4</th>\n",
              "      <td>0</td>\n",
              "    </tr>\n",
              "  </tbody>\n",
              "</table>\n",
              "</div>"
            ],
            "text/plain": [
              "   Predicted Status\n",
              "0                 1\n",
              "1                 0\n",
              "2                 0\n",
              "3                 0\n",
              "4                 0"
            ]
          },
          "metadata": {
            "tags": []
          },
          "execution_count": 36
        }
      ]
    },
    {
      "cell_type": "code",
      "metadata": {
        "id": "l04FtP7kFbZf"
      },
      "source": [
        "# Creating the function which can take loan inputs and perform prediction\n",
        "def FunctionLoanPrediction(inp_married, inp_education, inp_credit_history):\n",
        "    SampleInputData=[[inp_married, inp_education , inp_credit_history]]\n",
        "    \n",
        "    # Loading the model from pickle file\n",
        "    with open('FinalAdaboostModel.pkl', 'rb') as fileReadStream:\n",
        "        AdaBoost_model=pickle.load(fileReadStream)\n",
        "        # Don't forget to close the filestream!\n",
        "        fileReadStream.close()\n",
        "        \n",
        "    # Returning the predicted loan status\n",
        "    return('Approval Status: ' + str(AdaBoost_model.predict(SampleInputData)))\n",
        "\n",
        "# Function call\n",
        "FunctionLoanPrediction(inp_married=0, inp_education=1, inp_credit_history=1.0)"
      ],
      "execution_count": null,
      "outputs": []
    }
  ]
}